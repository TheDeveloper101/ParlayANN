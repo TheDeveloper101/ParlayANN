{
 "cells": [
  {
   "cell_type": "code",
   "execution_count": 1,
   "metadata": {},
   "outputs": [],
   "source": [
    "import pandas as pd\n",
    "import numpy as np\n",
    "from datetime import datetime\n",
    "import time\n",
    "from collections import defaultdict\n",
    "\n",
    "import os\n",
    "import _ParlayANNpy as pann\n",
    "import numpy as np\n",
    "import wrapper as wp\n",
    "from scipy.sparse import csr_matrix"
   ]
  },
  {
   "cell_type": "code",
   "execution_count": 2,
   "metadata": {},
   "outputs": [],
   "source": [
    "FERN_DATA_DIR = \"/ssd1/anndata/bigann/\"\n",
    "AWARE_DATA_DIR = \"/ssd1/data/bigann/\"\n",
    "\n",
    "DATA_DIR = FERN_DATA_DIR\n",
    "POINTS_PATH = DATA_DIR + \"data/yfcc100M/base.10M.u8bin.crop_nb_10000000\"\n",
    "FILTER_PATH = DATA_DIR + 'data/yfcc100M/base.metadata.10M.spmat'"
   ]
  },
  {
   "cell_type": "code",
   "execution_count": 3,
   "metadata": {},
   "outputs": [
    {
     "name": "stdout",
     "output_type": "stream",
     "text": [
      "Detected 10000000 points with dimension 192\n"
     ]
    }
   ],
   "source": [
    "ds = wp.FilteredDataset(POINTS_PATH, FILTER_PATH)"
   ]
  },
  {
   "cell_type": "code",
   "execution_count": 4,
   "metadata": {},
   "outputs": [
    {
     "data": {
      "text/plain": [
       "4033018.0"
      ]
     },
     "execution_count": 4,
     "metadata": {},
     "output_type": "execute_result"
    }
   ],
   "source": [
    "ds.distance(244, 897) # distance between two points"
   ]
  },
  {
   "cell_type": "code",
   "execution_count": 5,
   "metadata": {},
   "outputs": [
    {
     "data": {
      "text/plain": [
       "(10000000, 200386)"
      ]
     },
     "execution_count": 5,
     "metadata": {},
     "output_type": "execute_result"
    }
   ],
   "source": [
    "(ds.size(), ds.get_n_filters()) # (number of points in the dataset, number of filters in the dataset)"
   ]
  },
  {
   "cell_type": "code",
   "execution_count": 6,
   "metadata": {},
   "outputs": [
    {
     "data": {
      "text/plain": [
       "(97940, 13)"
      ]
     },
     "execution_count": 6,
     "metadata": {},
     "output_type": "execute_result"
    }
   ],
   "source": [
    "(ds.get_filter_size(0), ds.get_point_size(0)) # (number of points associated with the first filter, number of filters associated with the first point) \n",
    "# these are kinda useless idk why I added them"
   ]
  },
  {
   "cell_type": "code",
   "execution_count": 7,
   "metadata": {},
   "outputs": [
    {
     "data": {
      "text/plain": [
       "array([  58816,  113064,  188955,  370216,  434003,  434004,  469554,\n",
       "        920850, 1254536, 1360330, 1774795, 2083236, 2266041, 2321204,\n",
       "       2416130, 2427195, 2595615, 2595920, 2595921, 2695724, 2794821,\n",
       "       2794822, 2796437, 3008463, 3008464, 3365302, 3766123, 3899782,\n",
       "       3988855, 4309074, 4597811, 4650614, 5045215, 5153757, 5198273,\n",
       "       5268804, 5268805, 5268806, 5300685, 5386043, 5425117, 5597575,\n",
       "       5634004, 5658301, 5726002, 5789477, 5820154], dtype=int32)"
      ]
     },
     "execution_count": 7,
     "metadata": {},
     "output_type": "execute_result"
    }
   ],
   "source": [
    "ds.get_filter_points(87983) # numpy array of points with label 87983"
   ]
  },
  {
   "cell_type": "code",
   "execution_count": 8,
   "metadata": {},
   "outputs": [
    {
     "data": {
      "text/plain": [
       "array([    3,    21,    23,   762,  1228,  1460,  3295,  6299, 10176,\n",
       "       10177, 10178], dtype=int32)"
      ]
     },
     "execution_count": 8,
     "metadata": {},
     "output_type": "execute_result"
    }
   ],
   "source": [
    "ds.get_point_filters(244) # numpy array of filters for point 244"
   ]
  },
  {
   "cell_type": "code",
   "execution_count": 9,
   "metadata": {},
   "outputs": [
    {
     "data": {
      "text/plain": [
       "array([4205554, 4651584, 6189153, 6321122, 6455802, 6519911, 6733346,\n",
       "       6758710, 6833602, 7076657, 7091664, 7548083, 7561881, 7807613,\n",
       "       7876423, 7948812, 7985118, 8008618, 8227361, 8227362, 8464785,\n",
       "       9134880, 9228882, 9449009, 9544341, 9671039], dtype=int32)"
      ]
     },
     "execution_count": 9,
     "metadata": {},
     "output_type": "execute_result"
    }
   ],
   "source": [
    "ds.get_filter_intersection(2, 244) # numpy array of points that have both label 2 and 244"
   ]
  },
  {
   "cell_type": "code",
   "execution_count": 10,
   "metadata": {},
   "outputs": [
    {
     "data": {
      "text/plain": [
       "array([    2,    16,    29,   244,  1398,  1856,  4008, 72586],\n",
       "      dtype=int32)"
      ]
     },
     "execution_count": 10,
     "metadata": {},
     "output_type": "execute_result"
    }
   ],
   "source": [
    "ds.get_point_intersection(4205554, 4651584) # numpy array of filters that both point 4205554 and 4651584 have"
   ]
  }
 ],
 "metadata": {
  "kernelspec": {
   "display_name": "Python 3.10.12 64-bit",
   "language": "python",
   "name": "python3"
  },
  "language_info": {
   "codemirror_mode": {
    "name": "ipython",
    "version": 3
   },
   "file_extension": ".py",
   "mimetype": "text/x-python",
   "name": "python",
   "nbconvert_exporter": "python",
   "pygments_lexer": "ipython3",
   "version": "3.10.12"
  },
  "vscode": {
   "interpreter": {
    "hash": "916dbcbb3f70747c44a77c7bcd40155683ae19c65e1c03b4aa3499c5328201f1"
   }
  }
 },
 "nbformat": 4,
 "nbformat_minor": 2
}
